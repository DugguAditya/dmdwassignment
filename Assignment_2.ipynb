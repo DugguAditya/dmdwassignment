{
  "nbformat": 4,
  "nbformat_minor": 0,
  "metadata": {
    "colab": {
      "name": "Assignment 2.ipynb",
      "provenance": [],
      "include_colab_link": true
    },
    "kernelspec": {
      "name": "python3",
      "display_name": "Python 3"
    }
  },
  "cells": [
    {
      "cell_type": "markdown",
      "metadata": {
        "id": "view-in-github",
        "colab_type": "text"
      },
      "source": [
        "<a href=\"https://colab.research.google.com/github/DugguAditya/dmdwassignment/blob/main/Assignment_2.ipynb\" target=\"_parent\"><img src=\"https://colab.research.google.com/assets/colab-badge.svg\" alt=\"Open In Colab\"/></a>"
      ]
    },
    {
      "cell_type": "markdown",
      "metadata": {
        "id": "t50BOk5nh3Q7"
      },
      "source": [
        "# 1.Downloading a dataset from kaggle and uploading it in jupyter notebook or google colab & Performing any random operation on the dataset."
      ]
    },
    {
      "cell_type": "code",
      "metadata": {
        "id": "Hm-ZLU8IiYF6",
        "colab": {
          "base_uri": "https://localhost:8080/",
          "height": 0
        },
        "outputId": "18a795e8-0b1d-4f5d-8b73-19b48169263b"
      },
      "source": [
        "import pandas as pd\n",
        "url=\"https://raw.githubusercontent.com/DugguAditya/dmdwassignment/main/indian_food.csv\"\n",
        "df=pd.read_csv(url)\n",
        "df\n"
      ],
      "execution_count": 1,
      "outputs": [
        {
          "output_type": "execute_result",
          "data": {
            "text/html": [
              "<div>\n",
              "<style scoped>\n",
              "    .dataframe tbody tr th:only-of-type {\n",
              "        vertical-align: middle;\n",
              "    }\n",
              "\n",
              "    .dataframe tbody tr th {\n",
              "        vertical-align: top;\n",
              "    }\n",
              "\n",
              "    .dataframe thead th {\n",
              "        text-align: right;\n",
              "    }\n",
              "</style>\n",
              "<table border=\"1\" class=\"dataframe\">\n",
              "  <thead>\n",
              "    <tr style=\"text-align: right;\">\n",
              "      <th></th>\n",
              "      <th>name</th>\n",
              "      <th>ingredients</th>\n",
              "      <th>diet</th>\n",
              "      <th>prep_time</th>\n",
              "      <th>cook_time</th>\n",
              "      <th>flavor_profile</th>\n",
              "      <th>course</th>\n",
              "      <th>state</th>\n",
              "      <th>region</th>\n",
              "    </tr>\n",
              "  </thead>\n",
              "  <tbody>\n",
              "    <tr>\n",
              "      <th>0</th>\n",
              "      <td>Balu shahi</td>\n",
              "      <td>Maida flour, yogurt, oil, sugar</td>\n",
              "      <td>vegetarian</td>\n",
              "      <td>45</td>\n",
              "      <td>25</td>\n",
              "      <td>sweet</td>\n",
              "      <td>dessert</td>\n",
              "      <td>West Bengal</td>\n",
              "      <td>East</td>\n",
              "    </tr>\n",
              "    <tr>\n",
              "      <th>1</th>\n",
              "      <td>Boondi</td>\n",
              "      <td>Gram flour, ghee, sugar</td>\n",
              "      <td>vegetarian</td>\n",
              "      <td>80</td>\n",
              "      <td>30</td>\n",
              "      <td>sweet</td>\n",
              "      <td>dessert</td>\n",
              "      <td>Rajasthan</td>\n",
              "      <td>West</td>\n",
              "    </tr>\n",
              "    <tr>\n",
              "      <th>2</th>\n",
              "      <td>Gajar ka halwa</td>\n",
              "      <td>Carrots, milk, sugar, ghee, cashews, raisins</td>\n",
              "      <td>vegetarian</td>\n",
              "      <td>15</td>\n",
              "      <td>60</td>\n",
              "      <td>sweet</td>\n",
              "      <td>dessert</td>\n",
              "      <td>Punjab</td>\n",
              "      <td>North</td>\n",
              "    </tr>\n",
              "    <tr>\n",
              "      <th>3</th>\n",
              "      <td>Ghevar</td>\n",
              "      <td>Flour, ghee, kewra, milk, clarified butter, su...</td>\n",
              "      <td>vegetarian</td>\n",
              "      <td>15</td>\n",
              "      <td>30</td>\n",
              "      <td>sweet</td>\n",
              "      <td>dessert</td>\n",
              "      <td>Rajasthan</td>\n",
              "      <td>West</td>\n",
              "    </tr>\n",
              "    <tr>\n",
              "      <th>4</th>\n",
              "      <td>Gulab jamun</td>\n",
              "      <td>Milk powder, plain flour, baking powder, ghee,...</td>\n",
              "      <td>vegetarian</td>\n",
              "      <td>15</td>\n",
              "      <td>40</td>\n",
              "      <td>sweet</td>\n",
              "      <td>dessert</td>\n",
              "      <td>West Bengal</td>\n",
              "      <td>East</td>\n",
              "    </tr>\n",
              "    <tr>\n",
              "      <th>...</th>\n",
              "      <td>...</td>\n",
              "      <td>...</td>\n",
              "      <td>...</td>\n",
              "      <td>...</td>\n",
              "      <td>...</td>\n",
              "      <td>...</td>\n",
              "      <td>...</td>\n",
              "      <td>...</td>\n",
              "      <td>...</td>\n",
              "    </tr>\n",
              "    <tr>\n",
              "      <th>250</th>\n",
              "      <td>Til Pitha</td>\n",
              "      <td>Glutinous rice, black sesame seeds, gur</td>\n",
              "      <td>vegetarian</td>\n",
              "      <td>5</td>\n",
              "      <td>30</td>\n",
              "      <td>sweet</td>\n",
              "      <td>dessert</td>\n",
              "      <td>Assam</td>\n",
              "      <td>North East</td>\n",
              "    </tr>\n",
              "    <tr>\n",
              "      <th>251</th>\n",
              "      <td>Bebinca</td>\n",
              "      <td>Coconut milk, egg yolks, clarified butter, all...</td>\n",
              "      <td>vegetarian</td>\n",
              "      <td>20</td>\n",
              "      <td>60</td>\n",
              "      <td>sweet</td>\n",
              "      <td>dessert</td>\n",
              "      <td>Goa</td>\n",
              "      <td>West</td>\n",
              "    </tr>\n",
              "    <tr>\n",
              "      <th>252</th>\n",
              "      <td>Shufta</td>\n",
              "      <td>Cottage cheese, dry dates, dried rose petals, ...</td>\n",
              "      <td>vegetarian</td>\n",
              "      <td>-1</td>\n",
              "      <td>-1</td>\n",
              "      <td>sweet</td>\n",
              "      <td>dessert</td>\n",
              "      <td>Jammu &amp; Kashmir</td>\n",
              "      <td>North</td>\n",
              "    </tr>\n",
              "    <tr>\n",
              "      <th>253</th>\n",
              "      <td>Mawa Bati</td>\n",
              "      <td>Milk powder, dry fruits, arrowroot powder, all...</td>\n",
              "      <td>vegetarian</td>\n",
              "      <td>20</td>\n",
              "      <td>45</td>\n",
              "      <td>sweet</td>\n",
              "      <td>dessert</td>\n",
              "      <td>Madhya Pradesh</td>\n",
              "      <td>Central</td>\n",
              "    </tr>\n",
              "    <tr>\n",
              "      <th>254</th>\n",
              "      <td>Pinaca</td>\n",
              "      <td>Brown rice, fennel seeds, grated coconut, blac...</td>\n",
              "      <td>vegetarian</td>\n",
              "      <td>-1</td>\n",
              "      <td>-1</td>\n",
              "      <td>sweet</td>\n",
              "      <td>dessert</td>\n",
              "      <td>Goa</td>\n",
              "      <td>West</td>\n",
              "    </tr>\n",
              "  </tbody>\n",
              "</table>\n",
              "<p>255 rows × 9 columns</p>\n",
              "</div>"
            ],
            "text/plain": [
              "               name  ...      region\n",
              "0        Balu shahi  ...        East\n",
              "1            Boondi  ...        West\n",
              "2    Gajar ka halwa  ...       North\n",
              "3            Ghevar  ...        West\n",
              "4       Gulab jamun  ...        East\n",
              "..              ...  ...         ...\n",
              "250       Til Pitha  ...  North East\n",
              "251         Bebinca  ...        West\n",
              "252          Shufta  ...       North\n",
              "253       Mawa Bati  ...     Central\n",
              "254          Pinaca  ...        West\n",
              "\n",
              "[255 rows x 9 columns]"
            ]
          },
          "metadata": {
            "tags": []
          },
          "execution_count": 1
        }
      ]
    },
    {
      "cell_type": "code",
      "metadata": {
        "id": "IcydgDIvliaK",
        "colab": {
          "base_uri": "https://localhost:8080/",
          "height": 0
        },
        "outputId": "8b415a0a-96a5-4abc-98b8-900d21bb7d41"
      },
      "source": [
        "df.head()"
      ],
      "execution_count": 2,
      "outputs": [
        {
          "output_type": "execute_result",
          "data": {
            "text/html": [
              "<div>\n",
              "<style scoped>\n",
              "    .dataframe tbody tr th:only-of-type {\n",
              "        vertical-align: middle;\n",
              "    }\n",
              "\n",
              "    .dataframe tbody tr th {\n",
              "        vertical-align: top;\n",
              "    }\n",
              "\n",
              "    .dataframe thead th {\n",
              "        text-align: right;\n",
              "    }\n",
              "</style>\n",
              "<table border=\"1\" class=\"dataframe\">\n",
              "  <thead>\n",
              "    <tr style=\"text-align: right;\">\n",
              "      <th></th>\n",
              "      <th>name</th>\n",
              "      <th>ingredients</th>\n",
              "      <th>diet</th>\n",
              "      <th>prep_time</th>\n",
              "      <th>cook_time</th>\n",
              "      <th>flavor_profile</th>\n",
              "      <th>course</th>\n",
              "      <th>state</th>\n",
              "      <th>region</th>\n",
              "    </tr>\n",
              "  </thead>\n",
              "  <tbody>\n",
              "    <tr>\n",
              "      <th>0</th>\n",
              "      <td>Balu shahi</td>\n",
              "      <td>Maida flour, yogurt, oil, sugar</td>\n",
              "      <td>vegetarian</td>\n",
              "      <td>45</td>\n",
              "      <td>25</td>\n",
              "      <td>sweet</td>\n",
              "      <td>dessert</td>\n",
              "      <td>West Bengal</td>\n",
              "      <td>East</td>\n",
              "    </tr>\n",
              "    <tr>\n",
              "      <th>1</th>\n",
              "      <td>Boondi</td>\n",
              "      <td>Gram flour, ghee, sugar</td>\n",
              "      <td>vegetarian</td>\n",
              "      <td>80</td>\n",
              "      <td>30</td>\n",
              "      <td>sweet</td>\n",
              "      <td>dessert</td>\n",
              "      <td>Rajasthan</td>\n",
              "      <td>West</td>\n",
              "    </tr>\n",
              "    <tr>\n",
              "      <th>2</th>\n",
              "      <td>Gajar ka halwa</td>\n",
              "      <td>Carrots, milk, sugar, ghee, cashews, raisins</td>\n",
              "      <td>vegetarian</td>\n",
              "      <td>15</td>\n",
              "      <td>60</td>\n",
              "      <td>sweet</td>\n",
              "      <td>dessert</td>\n",
              "      <td>Punjab</td>\n",
              "      <td>North</td>\n",
              "    </tr>\n",
              "    <tr>\n",
              "      <th>3</th>\n",
              "      <td>Ghevar</td>\n",
              "      <td>Flour, ghee, kewra, milk, clarified butter, su...</td>\n",
              "      <td>vegetarian</td>\n",
              "      <td>15</td>\n",
              "      <td>30</td>\n",
              "      <td>sweet</td>\n",
              "      <td>dessert</td>\n",
              "      <td>Rajasthan</td>\n",
              "      <td>West</td>\n",
              "    </tr>\n",
              "    <tr>\n",
              "      <th>4</th>\n",
              "      <td>Gulab jamun</td>\n",
              "      <td>Milk powder, plain flour, baking powder, ghee,...</td>\n",
              "      <td>vegetarian</td>\n",
              "      <td>15</td>\n",
              "      <td>40</td>\n",
              "      <td>sweet</td>\n",
              "      <td>dessert</td>\n",
              "      <td>West Bengal</td>\n",
              "      <td>East</td>\n",
              "    </tr>\n",
              "  </tbody>\n",
              "</table>\n",
              "</div>"
            ],
            "text/plain": [
              "             name  ... region\n",
              "0      Balu shahi  ...   East\n",
              "1          Boondi  ...   West\n",
              "2  Gajar ka halwa  ...  North\n",
              "3          Ghevar  ...   West\n",
              "4     Gulab jamun  ...   East\n",
              "\n",
              "[5 rows x 9 columns]"
            ]
          },
          "metadata": {
            "tags": []
          },
          "execution_count": 2
        }
      ]
    },
    {
      "cell_type": "code",
      "metadata": {
        "colab": {
          "base_uri": "https://localhost:8080/",
          "height": 0
        },
        "id": "l9dK10q8oxlj",
        "outputId": "f7e9864c-796e-46b4-af94-7844ae5bc71b"
      },
      "source": [
        "df.tail()"
      ],
      "execution_count": 3,
      "outputs": [
        {
          "output_type": "execute_result",
          "data": {
            "text/html": [
              "<div>\n",
              "<style scoped>\n",
              "    .dataframe tbody tr th:only-of-type {\n",
              "        vertical-align: middle;\n",
              "    }\n",
              "\n",
              "    .dataframe tbody tr th {\n",
              "        vertical-align: top;\n",
              "    }\n",
              "\n",
              "    .dataframe thead th {\n",
              "        text-align: right;\n",
              "    }\n",
              "</style>\n",
              "<table border=\"1\" class=\"dataframe\">\n",
              "  <thead>\n",
              "    <tr style=\"text-align: right;\">\n",
              "      <th></th>\n",
              "      <th>name</th>\n",
              "      <th>ingredients</th>\n",
              "      <th>diet</th>\n",
              "      <th>prep_time</th>\n",
              "      <th>cook_time</th>\n",
              "      <th>flavor_profile</th>\n",
              "      <th>course</th>\n",
              "      <th>state</th>\n",
              "      <th>region</th>\n",
              "    </tr>\n",
              "  </thead>\n",
              "  <tbody>\n",
              "    <tr>\n",
              "      <th>250</th>\n",
              "      <td>Til Pitha</td>\n",
              "      <td>Glutinous rice, black sesame seeds, gur</td>\n",
              "      <td>vegetarian</td>\n",
              "      <td>5</td>\n",
              "      <td>30</td>\n",
              "      <td>sweet</td>\n",
              "      <td>dessert</td>\n",
              "      <td>Assam</td>\n",
              "      <td>North East</td>\n",
              "    </tr>\n",
              "    <tr>\n",
              "      <th>251</th>\n",
              "      <td>Bebinca</td>\n",
              "      <td>Coconut milk, egg yolks, clarified butter, all...</td>\n",
              "      <td>vegetarian</td>\n",
              "      <td>20</td>\n",
              "      <td>60</td>\n",
              "      <td>sweet</td>\n",
              "      <td>dessert</td>\n",
              "      <td>Goa</td>\n",
              "      <td>West</td>\n",
              "    </tr>\n",
              "    <tr>\n",
              "      <th>252</th>\n",
              "      <td>Shufta</td>\n",
              "      <td>Cottage cheese, dry dates, dried rose petals, ...</td>\n",
              "      <td>vegetarian</td>\n",
              "      <td>-1</td>\n",
              "      <td>-1</td>\n",
              "      <td>sweet</td>\n",
              "      <td>dessert</td>\n",
              "      <td>Jammu &amp; Kashmir</td>\n",
              "      <td>North</td>\n",
              "    </tr>\n",
              "    <tr>\n",
              "      <th>253</th>\n",
              "      <td>Mawa Bati</td>\n",
              "      <td>Milk powder, dry fruits, arrowroot powder, all...</td>\n",
              "      <td>vegetarian</td>\n",
              "      <td>20</td>\n",
              "      <td>45</td>\n",
              "      <td>sweet</td>\n",
              "      <td>dessert</td>\n",
              "      <td>Madhya Pradesh</td>\n",
              "      <td>Central</td>\n",
              "    </tr>\n",
              "    <tr>\n",
              "      <th>254</th>\n",
              "      <td>Pinaca</td>\n",
              "      <td>Brown rice, fennel seeds, grated coconut, blac...</td>\n",
              "      <td>vegetarian</td>\n",
              "      <td>-1</td>\n",
              "      <td>-1</td>\n",
              "      <td>sweet</td>\n",
              "      <td>dessert</td>\n",
              "      <td>Goa</td>\n",
              "      <td>West</td>\n",
              "    </tr>\n",
              "  </tbody>\n",
              "</table>\n",
              "</div>"
            ],
            "text/plain": [
              "          name  ...      region\n",
              "250  Til Pitha  ...  North East\n",
              "251    Bebinca  ...        West\n",
              "252     Shufta  ...       North\n",
              "253  Mawa Bati  ...     Central\n",
              "254     Pinaca  ...        West\n",
              "\n",
              "[5 rows x 9 columns]"
            ]
          },
          "metadata": {
            "tags": []
          },
          "execution_count": 3
        }
      ]
    },
    {
      "cell_type": "markdown",
      "metadata": {
        "id": "RIOCzFbOS-qH"
      },
      "source": [
        "\n",
        "# 2.Practice 10 python programs using numpy libraries."
      ]
    },
    {
      "cell_type": "code",
      "metadata": {
        "id": "Z1RilyS82ilf",
        "colab": {
          "base_uri": "https://localhost:8080/"
        },
        "outputId": "73199d8f-e118-4806-c30d-78f6d94963d4"
      },
      "source": [
        "#1.Write a NumPy program to create a 5x5 identity matrix, i.e. diagonal elements are 1, the rest are 0.\n",
        "import numpy as np\n",
        "x = np.eye(5,dtype=int)\n",
        "print(\"x =\\n\",x)"
      ],
      "execution_count": 4,
      "outputs": [
        {
          "output_type": "stream",
          "text": [
            "x =\n",
            " [[1 0 0 0 0]\n",
            " [0 1 0 0 0]\n",
            " [0 0 1 0 0]\n",
            " [0 0 0 1 0]\n",
            " [0 0 0 0 1]]\n"
          ],
          "name": "stdout"
        }
      ]
    },
    {
      "cell_type": "code",
      "metadata": {
        "id": "csNB-u8G2ENv",
        "colab": {
          "base_uri": "https://localhost:8080/"
        },
        "outputId": "8a4f0737-e0fe-4f2b-8820-52a338f0781b"
      },
      "source": [
        "#2.Write a NumPy program to convert a given array into a list and then convert it into a list again.\n",
        "import numpy as np\n",
        "a = [[1, 2], [3, 4]]\n",
        "x = np.array(a)\n",
        "print(\"list to array:\\n\",x)\n",
        "a2 = x.tolist()\n",
        "print(\"array to list:\\n\",a2)\n",
        "print(a == a2)"
      ],
      "execution_count": 5,
      "outputs": [
        {
          "output_type": "stream",
          "text": [
            "list to array:\n",
            " [[1 2]\n",
            " [3 4]]\n",
            "array to list:\n",
            " [[1, 2], [3, 4]]\n",
            "True\n"
          ],
          "name": "stdout"
        }
      ]
    },
    {
      "cell_type": "code",
      "metadata": {
        "id": "1Oh0FRed2E7Y",
        "colab": {
          "base_uri": "https://localhost:8080/"
        },
        "outputId": "8c2ff604-cdd3-49a0-b79a-9a54fb23682f"
      },
      "source": [
        "#3.Write a NumPy program to convert the Fahrenheit degree values into Centigrade degrees. Fahrenheit values are stored into a NumPy array.\n",
        "import numpy as np\n",
        "N=int(input())# not more than N inputs will be considered\n",
        "fvalues=list(map(float, input().split(' ')[:N]))\n",
        "F = np.array(fvalues)\n",
        "print(\"Values in Fahrenheit degrees:\")\n",
        "print(F)\n",
        "print(\"Values in  Centigrade degrees:\") \n",
        "print(5*F/9 - 5*32/9)"
      ],
      "execution_count": 7,
      "outputs": [
        {
          "output_type": "stream",
          "text": [
            "1\n",
            "0.5\n",
            "Values in Fahrenheit degrees:\n",
            "[0.5]\n",
            "Values in  Centigrade degrees:\n",
            "[-17.5]\n"
          ],
          "name": "stdout"
        }
      ]
    },
    {
      "cell_type": "code",
      "metadata": {
        "id": "twBNowVD2Fgb",
        "colab": {
          "base_uri": "https://localhost:8080/"
        },
        "outputId": "b4450a7e-1efa-4550-904d-aa7896c22e8e"
      },
      "source": [
        "#4.Write a NumPy program to compute the determinant of a given square array.\n",
        "import numpy as np\n",
        "from numpy import linalg as la  \n",
        "R = int(input(\"Enter the number of rows:\")) \n",
        "C = int(input(\"Enter the number of columns:\"))   \n",
        "\n",
        "if R==C:\n",
        "  print(\"Enter the entries in a single line (separated by space): \") \n",
        "  entries = list(map(int, input().split()))   \n",
        "  matrix = np.array(entries).reshape(R, C) \n",
        "  print(\"Original \",R,\"x\",C,\"-D matrix\")\n",
        "  print(matrix)\n",
        "  print(\"Determinant of the said \",R,\"x\",C,\"-D matrix\")\n",
        "  print(np.linalg.det(matrix))\n",
        "else:\n",
        "  print(\"Invalid Dimensional Array Input\")\n",
        "\n"
      ],
      "execution_count": 10,
      "outputs": [
        {
          "output_type": "stream",
          "text": [
            "Enter the number of rows:2\n",
            "Enter the number of columns:2\n",
            "Enter the entries in a single line (separated by space): \n",
            "1 0 1 0\n",
            "Original  2 x 2 -D matrix\n",
            "[[1 0]\n",
            " [1 0]]\n",
            "Determinant of the said  2 x 2 -D matrix\n",
            "0.0\n"
          ],
          "name": "stdout"
        }
      ]
    },
    {
      "cell_type": "code",
      "metadata": {
        "id": "rCtY7myn2G_Z",
        "colab": {
          "base_uri": "https://localhost:8080/"
        },
        "outputId": "552fb078-78bc-4061-e5dc-d4a11a78df2f"
      },
      "source": [
        "#5.Write a NumPy program to create a 5x5 array with random values and find the minimum and maximum values.\n",
        "import numpy as np\n",
        "x = np.random.random((5,5))\n",
        "print(\"Original Array:\")\n",
        "print(x) \n",
        "xmin, xmax = x.min(), x.max()\n",
        "print(\"Minimum and Maximum Values:\")\n",
        "print(xmin, xmax)"
      ],
      "execution_count": 11,
      "outputs": [
        {
          "output_type": "stream",
          "text": [
            "Original Array:\n",
            "[[0.01456541 0.84448862 0.26412593 0.76662188 0.19127414]\n",
            " [0.24590871 0.55169689 0.38365705 0.38961908 0.39902874]\n",
            " [0.3687333  0.87951227 0.64037086 0.86539718 0.70634526]\n",
            " [0.59138998 0.15557905 0.33259166 0.64264911 0.67345784]\n",
            " [0.50904466 0.8076993  0.4817023  0.12777711 0.71771717]]\n",
            "Minimum and Maximum Values:\n",
            "0.014565411739557277 0.8795122740282283\n"
          ],
          "name": "stdout"
        }
      ]
    },
    {
      "cell_type": "code",
      "metadata": {
        "id": "1KckRHgg2FyS",
        "colab": {
          "base_uri": "https://localhost:8080/"
        },
        "outputId": "809c9a0f-0a51-493d-81c9-c31edcd43462"
      },
      "source": [
        "#6.Write a NumPy program to sort the specified number of elements from beginning of a given array.\n",
        "import numpy as np\n",
        "nums =  np.random.rand(15)\n",
        "print(\"Original array:\")\n",
        "print(nums)\n",
        "print(\"\\nSorted first 5 elements:\")\n",
        "print(nums[np.argpartition(nums,range(8))])"
      ],
      "execution_count": 12,
      "outputs": [
        {
          "output_type": "stream",
          "text": [
            "Original array:\n",
            "[0.45296615 0.34655362 0.2917517  0.99394529 0.1022594  0.91426847\n",
            " 0.32288976 0.86987294 0.65825567 0.93638471 0.11599743 0.14068718\n",
            " 0.81446307 0.18048629 0.94971589]\n",
            "\n",
            "Sorted first 5 elements:\n",
            "[0.1022594  0.11599743 0.14068718 0.18048629 0.2917517  0.32288976\n",
            " 0.34655362 0.45296615 0.65825567 0.93638471 0.91426847 0.86987294\n",
            " 0.81446307 0.99394529 0.94971589]\n"
          ],
          "name": "stdout"
        }
      ]
    },
    {
      "cell_type": "code",
      "metadata": {
        "id": "dkVFmBts2FUm",
        "colab": {
          "base_uri": "https://localhost:8080/"
        },
        "outputId": "37df6498-58c6-4bab-901e-7f650297b161"
      },
      "source": [
        "#7.Write a NumPy program to calculate cumulative sum of the elements along a given axis, sum over rows for each of the 3 columns and sum over columns for each of the 2 rows of a given 3x3 array.\n",
        "import numpy as np\n",
        "x = np.array([[1,2,3], [4,5,6]])\n",
        "print(\"Original array: \")\n",
        "print(x)\n",
        "print(\"Cumulative sum of the elements along a given axis:\")\n",
        "r = np.cumsum(x)\n",
        "print(r)\n",
        "print(\"\\nSum over rows for each of the 3 columns:\")\n",
        "r = np.cumsum(x,axis=0) \n",
        "print(r)\n",
        "print(\"\\nSum over columns for each of the 2 rows:\")\n",
        "r = np.cumsum(x,axis=1) \n",
        "print(r)"
      ],
      "execution_count": 13,
      "outputs": [
        {
          "output_type": "stream",
          "text": [
            "Original array: \n",
            "[[1 2 3]\n",
            " [4 5 6]]\n",
            "Cumulative sum of the elements along a given axis:\n",
            "[ 1  3  6 10 15 21]\n",
            "\n",
            "Sum over rows for each of the 3 columns:\n",
            "[[1 2 3]\n",
            " [5 7 9]]\n",
            "\n",
            "Sum over columns for each of the 2 rows:\n",
            "[[ 1  3  6]\n",
            " [ 4  9 15]]\n"
          ],
          "name": "stdout"
        }
      ]
    },
    {
      "cell_type": "code",
      "metadata": {
        "id": "jhjTHRdC2YEM",
        "colab": {
          "base_uri": "https://localhost:8080/"
        },
        "outputId": "6d142e3b-f681-4844-9be9-3b248d65efbd"
      },
      "source": [
        "#8.Write a NumPy program to test element-wise of a given array for finiteness (not infinity or not Not a Number), positive or negative infinity, for NaN, for NaT (not a time), for negative infinity, for positive infinity.\n",
        "import numpy as np\n",
        "print(\"\\nTest element-wise for finiteness (not infinity or not Not a Number):\")\n",
        "print(np.isfinite(1))\n",
        "print(np.isfinite(0))\n",
        "print(np.isfinite(np.nan))\n",
        "print(\"\\nTest element-wise for positive or negative infinity:\")\n",
        "print(np.isinf(np.inf))\n",
        "print(np.isinf(np.nan))\n",
        "print(np.isinf(np.NINF))\n",
        "print(\"Test element-wise for NaN:\")\n",
        "print(np.isnan([np.log(-1.),1.,np.log(0)]))\n",
        "print(\"Test element-wise for NaT (not a time):\")\n",
        "print(np.isnat(np.array([\"NaT\", \"2016-01-01\"], dtype=\"datetime64[ns]\")))\n",
        "print(\"Test element-wise for negative infinity:\")\n",
        "x = np.array([-np.inf, 0., np.inf])\n",
        "y = np.array([2, 2, 2])\n",
        "print(np.isneginf(x, y))\n",
        "print(\"Test element-wise for positive infinity:\")\n",
        "x = np.array([-np.inf, 0., np.inf])\n",
        "y = np.array([2, 2, 2])\n",
        "print(np.isposinf(x, y))\n",
        "\n"
      ],
      "execution_count": 14,
      "outputs": [
        {
          "output_type": "stream",
          "text": [
            "\n",
            "Test element-wise for finiteness (not infinity or not Not a Number):\n",
            "True\n",
            "True\n",
            "False\n",
            "\n",
            "Test element-wise for positive or negative infinity:\n",
            "True\n",
            "False\n",
            "True\n",
            "Test element-wise for NaN:\n",
            "[ True False False]\n",
            "Test element-wise for NaT (not a time):\n",
            "[ True False]\n",
            "Test element-wise for negative infinity:\n",
            "[1 0 0]\n",
            "Test element-wise for positive infinity:\n",
            "[0 0 1]\n"
          ],
          "name": "stdout"
        },
        {
          "output_type": "stream",
          "text": [
            "/usr/local/lib/python3.6/dist-packages/ipykernel_launcher.py:12: RuntimeWarning: invalid value encountered in log\n",
            "  if sys.path[0] == '':\n",
            "/usr/local/lib/python3.6/dist-packages/ipykernel_launcher.py:12: RuntimeWarning: divide by zero encountered in log\n",
            "  if sys.path[0] == '':\n"
          ],
          "name": "stderr"
        }
      ]
    },
    {
      "cell_type": "code",
      "metadata": {
        "id": "WyrH7gZ32X3i",
        "colab": {
          "base_uri": "https://localhost:8080/"
        },
        "outputId": "1f7f07c8-b3ea-4b68-fef1-d0111f96d985"
      },
      "source": [
        "#9.Write a NumPy program to get the dates of yesterday, today and tomorrow.\n",
        "import numpy as np\n",
        "yesterday = np.datetime64('today', 'D') - np.timedelta64(1, 'D')\n",
        "print(\"Yestraday: \",yesterday)\n",
        "today     = np.datetime64('today', 'D')\n",
        "print(\"Today: \",today)\n",
        "tomorrow  = np.datetime64('today', 'D') + np.timedelta64(1, 'D')\n",
        "print(\"Tomorrow: \",tomorrow)"
      ],
      "execution_count": 15,
      "outputs": [
        {
          "output_type": "stream",
          "text": [
            "Yestraday:  2020-11-25\n",
            "Today:  2020-11-26\n",
            "Tomorrow:  2020-11-27\n"
          ],
          "name": "stdout"
        }
      ]
    },
    {
      "cell_type": "code",
      "metadata": {
        "id": "HsIE19E42EoF",
        "colab": {
          "base_uri": "https://localhost:8080/"
        },
        "outputId": "bb7d3c42-6089-4c36-a9f1-f44234e44ee1"
      },
      "source": [
        "#10.Write a NumPy program to remove the leading and trailing whitespaces of all the elements of a given array.\n",
        "import numpy as np\n",
        "x = np.array([' python exercises ', ' PHP  ', ' java  ', '  C++'], dtype=np.str)\n",
        "print(\"Original Array:\")\n",
        "print(x)\n",
        "stripped = np.char.strip(x)\n",
        "print(\"\\nRemove the leading and trailing whitespaces: \", stripped)"
      ],
      "execution_count": 16,
      "outputs": [
        {
          "output_type": "stream",
          "text": [
            "Original Array:\n",
            "[' python exercises ' ' PHP  ' ' java  ' '  C++']\n",
            "\n",
            "Remove the leading and trailing whitespaces:  ['python exercises' 'PHP' 'java' 'C++']\n"
          ],
          "name": "stdout"
        }
      ]
    },
    {
      "cell_type": "markdown",
      "metadata": {
        "id": "6-tMn-cq19O0"
      },
      "source": [
        "# 3.Practice 10 python programs using pandas libraries."
      ]
    },
    {
      "cell_type": "code",
      "metadata": {
        "id": "XSnXGLit-nOW"
      },
      "source": [
        "#1.Write a Pandas program to add, subtract, multiple and divide two Pandas Series.\n",
        "import pandas as pd\n",
        "ds1 = pd.Series([2, 4, 6, 8, 10])\n",
        "ds2 = pd.Series([1, 3, 5, 7, 9])\n",
        "ds = ds1 + ds2\n",
        "print(\"Add two Series:\")\n",
        "print(ds)\n",
        "print(\"Subtract two Series:\")\n",
        "ds = ds1 - ds2\n",
        "print(ds)\n",
        "print(\"Multiply two Series:\")\n",
        "ds = ds1 * ds2\n",
        "print(ds)\n",
        "print(\"Divide Series1 by Series2:\")\n",
        "ds = ds1 / ds2\n",
        "print(ds)"
      ],
      "execution_count": null,
      "outputs": []
    },
    {
      "cell_type": "code",
      "metadata": {
        "id": "XEcM252U-nv2"
      },
      "source": [
        "#2.Write a Pandas program to iterate over rows in a DataFrame.\n",
        "import pandas as pd\n",
        "import numpy as np\n",
        "exam_data = [{'name':'Anastasia', 'score':12.5}, {'name':'Dima','score':9}, {'name':'Katherine','score':16.5}]\n",
        "df = pd.DataFrame(exam_data)\n",
        "for index, row in df.iterrows():\n",
        "    print(row['name'], row['score'])"
      ],
      "execution_count": null,
      "outputs": []
    },
    {
      "cell_type": "code",
      "metadata": {
        "id": "65CXWSBk-oJU"
      },
      "source": [
        "#3.Write a Pandas program to start index with different value rather than 0 in a given DataFrame.\n",
        "import pandas as pd\n",
        "df = pd.DataFrame({\n",
        "    'school_code': ['s001','s002','s003','s001','s002','s004'],\n",
        "    'class': ['V', 'V', 'VI', 'VI', 'V', 'VI'],\n",
        "    'name': ['Alberto Franco','Gino Mcneill','Ryan Parkes', 'Eesha Hinton', 'Gino Mcneill', 'David Parkes'],\n",
        "    'date_of_birth': ['15/05/2002','17/05/2002','16/02/1999','25/09/1998','11/05/2002','15/09/1997'],\n",
        "    'weight': [35, 37, 33, 30, 31, 32]})\n",
        "     \n",
        "print(\"Original DataFrame:\")\n",
        "print(df)\n",
        "print(\"\\nDefault Index Range:\")\n",
        "print(df.index)\n",
        "df.index += 10 \n",
        "print(\"\\nNew Index Range:\")\n",
        "print(df.index)\n",
        "print(\"\\nDataFrame with new index:\")\n",
        "print(df)"
      ],
      "execution_count": null,
      "outputs": []
    },
    {
      "cell_type": "code",
      "metadata": {
        "id": "PlNeJs_m-oju"
      },
      "source": [
        "#4.Write a Pandas program to extract only phone number from the specified column of a given DataFrame.\n",
        "import pandas as pd\n",
        "import re as re\n",
        "pd.set_option('display.max_columns', 10)\n",
        "df = pd.DataFrame({\n",
        "    'company_code': ['c0001','c0002','c0003', 'c0003', 'c0004'],\n",
        "    'company_phone_no': ['Company1-Phone no. 4695168357','Company2-Phone no. 8088729013','Company3-Phone no. 6204658086', 'Company4-Phone no. 5159530096', 'Company5-Phone no. 9037952371']\n",
        "    })\n",
        "print(\"Original DataFrame:\")\n",
        "print(df)\n",
        "def find_phone_number(text):\n",
        "    ph_no = re.findall(r\"\\b\\d{10}\\b\",text)\n",
        "    return \"\".join(ph_no)\n",
        "df['number']=df['company_phone_no'].apply(lambda x: find_phone_number(x))\n",
        "print(\"\\Extracting numbers from dataframe columns:\")\n",
        "print(df)"
      ],
      "execution_count": null,
      "outputs": []
    },
    {
      "cell_type": "code",
      "metadata": {
        "id": "1GCklM1C-oX5"
      },
      "source": [
        "#5.Write a Pandas program to Combine two DataFrame objects by filling null values in one DataFrame with non-null values from other DataFrame.\n",
        "import pandas as pd\n",
        "df1 = pd.DataFrame({'A': [None, 0, None], 'B': [3, 4, 5]})\n",
        "df2 = pd.DataFrame({'A': [1, 1, 3], 'B': [3, None, 3]})\n",
        "df1.combine_first(df2)\n",
        "print(\"Original DataFrames:\")\n",
        "print(df1)\n",
        "print(\"--------------------\")\n",
        "print(df2)\n",
        "print(\"\\nMerge two dataframes with different columns:\")\n",
        "result = df1.combine_first(df2)\n",
        "print(result)"
      ],
      "execution_count": null,
      "outputs": []
    },
    {
      "cell_type": "code",
      "metadata": {
        "id": "y5wr0Gr5-n9y"
      },
      "source": [
        "#6.Write a Pandas program to create\n",
        "#a) Datetime object for Jan 15 2012.\n",
        "#b) Specific date and time of 9:20 pm.\n",
        "#c) Local date and time.\n",
        "#d) A date without time.\n",
        "#e) Current date.\n",
        "#f) Time from a datetime.\n",
        "#g) Current local time.\n",
        "import datetime\n",
        "from datetime import datetime\n",
        "print(\"Datetime object for Jan 11 2012:\")\n",
        "print(datetime(2012, 1, 11))\n",
        "print(\"\\nSpecific date and time of 9:20 pm\") \n",
        "print(datetime(2011, 1, 11, 21, 20))\n",
        "print(\"\\nLocal date and time:\")\n",
        "print(datetime.now())\n",
        "print(\"\\nA date without time: \")\n",
        "print(datetime.date(datetime(2012, 5, 22)))\n",
        "print(\"\\nCurrent date:\")\n",
        "print(datetime.now().date())\n",
        "print(\"\\nTime from a datetime:\")\n",
        "print(datetime.time(datetime(2012, 12, 15, 18, 12)))\n",
        "print(\"\\nCurrent local time:\") \n",
        "print(datetime.now().time())"
      ],
      "execution_count": null,
      "outputs": []
    },
    {
      "cell_type": "code",
      "metadata": {
        "id": "v3iZeynX-nkl"
      },
      "source": [
        "#7.Write a Pandas program to find out the alcohol consumption details in the year '1986' or '1989' where WHO region is 'Americas' or 'Europe' from the world alcohol consumption dataset.\n",
        "import pandas as pd\n",
        "url = \"https://raw.githubusercontent.com/DugguAditya/dmdwassignment/main/world_alcohol.csv\"\n",
        "w_a_con =pd.read_csv(url)\n",
        "print(\"World alcohol consumption sample data:\")\n",
        "print(w_a_con.head())\n",
        "print(\"\\nThe world alcohol consumption details in the year ‘1986’ or ‘1989’ where  WHO region is ‘Americas’  or 'Europe':\")\n",
        "print(w_a_con[((w_a_con['Year']==1985) | (w_a_con['Year']==1989)) & ((w_a_con['WHO region']=='Americas') | (w_a_con['WHO region']=='Europe'))].head(10))\n"
      ],
      "execution_count": null,
      "outputs": []
    },
    {
      "cell_type": "code",
      "metadata": {
        "id": "b1-z1N_p-nBm"
      },
      "source": [
        "#8\n",
        "\"\"\"Write a Pandas program to split the following dataset using group by on 'salesman_id' and find the first order date for each group.\n",
        "\n",
        "Test Data:\n",
        "\n",
        "    ord_no  purch_amt    ord_date  customer_id  salesman_id\n",
        "0    70001     150.50  2012-10-05         3002         5002\n",
        "1    70009     270.65  2012-09-10         3001         5003\n",
        "2    70002      65.26  2012-10-05         3001         5001\n",
        "3    70004     110.50  2012-08-17         3003         5003\n",
        "4    70007     948.50  2012-09-10         3002         5002\n",
        "5    70005    2400.60  2012-07-27         3002         5001\n",
        "6    70008    5760.00  2012-09-10         3001         5001\n",
        "7    70010    1983.43  2012-10-10         3004         5003\n",
        "8    70003    2480.40  2012-10-10         3003         5003\n",
        "9    70012     250.45  2012-06-27         3002         5002\n",
        "10   70011      75.29  2012-08-17         3003         5003\n",
        "11   70013    3045.60  2012-04-25         3001         5001\"\"\"\n",
        "import pandas as pd\n",
        "pd.set_option('display.max_rows', None)\n",
        "#pd.set_option('display.max_columns', None)\n",
        "df = pd.DataFrame({\n",
        "'ord_no':[70001,70009,70002,70004,70007,70005,70008,70010,70003,70012,70011,70013],\n",
        "'purch_amt':[150.5,270.65,65.26,110.5,948.5,2400.6,5760,1983.43,2480.4,250.45, 75.29,3045.6],\n",
        "'ord_date': ['2012-10-05','2012-09-10','2012-10-05','2012-08-17','2012-09-10','2012-07-27','2012-09-10','2012-10-10','2012-10-10','2012-06-27','2012-08-17','2012-04-25'],\n",
        "'customer_id':[3005,3001,3002,3009,3005,3007,3002,3004,3009,3008,3003,3002],\n",
        "'salesman_id': [5002,5005,5001,5003,5002,5001,5001,5004,5003,5002,5004,5001]})\n",
        "print(\"Original Orders DataFrame:\")\n",
        "print(df)\n",
        "print(\"\\nGroupby to find first order date for each group(salesman_id):\")\n",
        "result = df.groupby('salesman_id')['ord_date'].min()\n",
        "print(result)"
      ],
      "execution_count": null,
      "outputs": []
    },
    {
      "cell_type": "code",
      "metadata": {
        "id": "MjfzhHn3L9TV"
      },
      "source": [
        "#9\n",
        "\"\"\"Write a Pandas program to find and replace the missing values in a given DataFrame which do not have any valuable information.\n",
        "\n",
        "Example:\n",
        "Missing values: ?, --\n",
        "Replace those values with NaN\n",
        "\n",
        "Test Data:\n",
        "\n",
        "   ord_no purch_amt    ord_date customer_id salesman_id\n",
        "0   70001     150.5           ?        3002        5002\n",
        "1     NaN    270.65  2012-09-10        3001        5003\n",
        "2   70002     65.26         NaN        3001           ?\n",
        "3   70004     110.5  2012-08-17        3003        5001\n",
        "4     NaN     948.5  2012-09-10        3002         NaN\n",
        "5   70005    2400.6  2012-07-27        3001        5002\n",
        "6      --      5760  2012-09-10        3001        5001\n",
        "7   70010         ?  2012-10-10        3004           ?\n",
        "8   70003     12.43  2012-10-10          --        5003\n",
        "9   70012    2480.4  2012-06-27        3002        5002\n",
        "10    NaN    250.45  2012-08-17        3001        5003\n",
        "11  70013    3045.6  2012-04-25        3001          --   \"\"\"\n",
        "import numpy as np\n",
        "pd.set_option('display.max_rows', None)\n",
        "#pd.set_option('display.max_columns', None)\n",
        "df = pd.DataFrame({\n",
        "'ord_no':[70001,np.nan,70002,70004,np.nan,70005,\"--\",70010,70003,70012,np.nan,70013],\n",
        "'purch_amt':[150.5,270.65,65.26,110.5,948.5,2400.6,5760,\"?\",12.43,2480.4,250.45, 3045.6],\n",
        "'ord_date': ['?','2012-09-10',np.nan,'2012-08-17','2012-09-10','2012-07-27','2012-09-10','2012-10-10','2012-10-10','2012-06-27','2012-08-17','2012-04-25'],\n",
        "'customer_id':[3002,3001,3001,3003,3002,3001,3001,3004,\"--\",3002,3001,3001],\n",
        "'salesman_id':[5002,5003,\"?\",5001,np.nan,5002,5001,\"?\",5003,5002,5003,\"--\"]})\n",
        "print(\"Original Orders DataFrame:\")\n",
        "print(df)\n",
        "print(\"\\nReplace the missing values with NaN:\")\n",
        "result = df.replace({\"?\": np.nan, \"--\": np.nan})\n",
        "print(result)\n",
        "\n"
      ],
      "execution_count": null,
      "outputs": []
    },
    {
      "cell_type": "code",
      "metadata": {
        "id": "Jz5Tdht0-ra_"
      },
      "source": [
        "#10.Create a dataframe of ten rows, four columns with random values. Write a Pandas program to display bar charts in dataframe on specified columns.\n",
        "import pandas as pd\n",
        "import numpy as np\n",
        "np.random.seed(24)\n",
        "df = pd.DataFrame({'A': np.linspace(1, 10, 10)})\n",
        "df = pd.concat([df, pd.DataFrame(np.random.randn(10, 4), columns=list('BCDE'))],\n",
        "               axis=1)\n",
        "df.iloc[0, 2] = np.nan\n",
        "df.iloc[3, 3] = np.nan\n",
        "df.iloc[4, 1] = np.nan\n",
        "df.iloc[9, 4] = np.nan\n",
        "print(\"Original array:\")\n",
        "print(df)\n",
        "print(\"\\nBar charts in dataframe:\")\n",
        "df.style.bar(subset=['B', 'C'], color='#d65f5f')"
      ],
      "execution_count": null,
      "outputs": []
    },
    {
      "cell_type": "code",
      "metadata": {
        "id": "yaOxqsPDl0zJ"
      },
      "source": [
        ""
      ],
      "execution_count": null,
      "outputs": []
    }
  ]
}